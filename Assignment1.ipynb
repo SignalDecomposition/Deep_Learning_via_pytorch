{
  "nbformat": 4,
  "nbformat_minor": 0,
  "metadata": {
    "colab": {
      "provenance": [],
      "include_colab_link": true
    },
    "kernelspec": {
      "name": "python3",
      "display_name": "Python 3"
    },
    "gpuClass": "standard"
  },
  "cells": [
    {
      "cell_type": "markdown",
      "metadata": {
        "id": "view-in-github",
        "colab_type": "text"
      },
      "source": [
        "<a href=\"https://colab.research.google.com/github/SignalDecomposition/Deep_Learning_via_pytorch/blob/main/Assignment1.ipynb\" target=\"_parent\"><img src=\"https://colab.research.google.com/assets/colab-badge.svg\" alt=\"Open In Colab\"/></a>"
      ]
    },
    {
      "cell_type": "markdown",
      "metadata": {
        "id": "3bhfIKbQzGq2"
      },
      "source": [
        "# Assignment 1. Music Century Classification\n",
        "\n",
        "**Assignment Responsible**: Natalie Lang. \\\\\n",
        "***Michael Shifrin *** \\\\\n",
        "***Eldar Mamedov  *** \n",
        "\n",
        "In this assignment, we will build models to predict which\n",
        "**century** a piece of music was released.  We will be using the \"YearPredictionMSD Data Set\"\n",
        "based on the Million Song Dataset. The data is available to download from the UCI \n",
        "Machine Learning Repository. Here are some links about the data:\n",
        "\n",
        "- https://archive.ics.uci.edu/ml/datasets/yearpredictionmsd\n",
        "- http://millionsongdataset.com/pages/tasks-demos/#yearrecognition\n",
        "\n",
        "Note that you are note allowed to import additional packages **(especially not PyTorch)**. One of the objectives is to understand how the training procedure actually operates, before working with PyTorch's autograd engine which does it all for us.\n"
      ]
    },
    {
      "cell_type": "markdown",
      "metadata": {
        "id": "47oq1vy5PUIV"
      },
      "source": [
        "## Question 1. Data (21%)\n",
        "\n",
        "Start by setting up a Google Colab notebook in which to do your work.\n",
        "Since you are working with a partner, you might find this link helpful:\n",
        "\n",
        "- https://colab.research.google.com/github/googlecolab/colabtools/blob/master/notebooks/colab-github-demo.ipynb\n",
        "\n",
        "The recommended way to work together is pair coding, where you and your partner are sitting together and writing code together. \n",
        "\n",
        "To process and read the data, we use the popular `pandas` package for data analysis."
      ]
    },
    {
      "cell_type": "code",
      "metadata": {
        "id": "1aFWpuNSzGq9"
      },
      "source": [
        "import pandas\n",
        "import numpy as np\n",
        "import matplotlib.pyplot as plt"
      ],
      "execution_count": null,
      "outputs": []
    },
    {
      "cell_type": "markdown",
      "metadata": {
        "id": "Y7UWL6mFzGq-"
      },
      "source": [
        "Now that your notebook is set up, we can load the data into the notebook. The code below provides\n",
        "two ways of loading the data: directly from the internet, or through mounting Google Drive.\n",
        "The first method is easier but slower, and the second method is a bit involved at first, but\n",
        "can save you time later on. You will need to mount Google Drive for later assignments, so we recommend\n",
        "figuring how to do that now.\n",
        "\n",
        "Here are some resources to help you get started:\n",
        "\n",
        "- http.://colab.research.google.com/notebooks/io.ipynb"
      ]
    },
    {
      "cell_type": "code",
      "metadata": {
        "id": "EY6PrfV4zGq_",
        "colab": {
          "base_uri": "https://localhost:8080/"
        },
        "outputId": "fe828a40-c7cc-48d8-83ba-b63fbdaba889"
      },
      "source": [
        "from google.colab import drive\n",
        "drive.mount('/content/gdrive')\n",
        "csv_path = '/content/gdrive/My Drive/Deep Learning Homeworks/Assignment1/YearPredictionMSD.txt.zip' # TODO - UPDATE ME WITH THE TRUE PATH!\n",
        "\n",
        "t_label = [\"year\"]\n",
        "x_labels = [\"var%d\" % i for i in range(1, 91)]\n",
        "df = pandas.read_csv(csv_path, names=t_label + x_labels)"
      ],
      "execution_count": null,
      "outputs": [
        {
          "output_type": "stream",
          "name": "stdout",
          "text": [
            "Mounted at /content/gdrive\n"
          ]
        }
      ]
    },
    {
      "cell_type": "markdown",
      "metadata": {
        "id": "KgB83beNzGq_"
      },
      "source": [
        "Now that the data is loaded to your Colab notebook, you should be able to display the Pandas\n",
        "DataFrame `df` as a table:"
      ]
    },
    {
      "cell_type": "code",
      "metadata": {
        "id": "H5bBEnj3zGq_"
      },
      "source": [
        "df"
      ],
      "execution_count": null,
      "outputs": []
    },
    {
      "cell_type": "markdown",
      "metadata": {
        "id": "KaLuAMH_zGrA"
      },
      "source": [
        "To set up our data for classification, we'll use the \"year\" field to represent\n",
        "whether a song was released in the 20-th century. In our case `df[\"year\"]` will be 1 if\n",
        "the year was released after 2000, and 0 otherwise."
      ]
    },
    {
      "cell_type": "code",
      "metadata": {
        "id": "tZdGlNgdzGrA"
      },
      "source": [
        "df[\"year\"] = df[\"year\"].map(lambda x: int(x > 2000))"
      ],
      "execution_count": null,
      "outputs": []
    },
    {
      "cell_type": "code",
      "metadata": {
        "id": "xugy7FZ8eoAd"
      },
      "source": [
        "df.head(20)"
      ],
      "execution_count": null,
      "outputs": []
    },
    {
      "cell_type": "markdown",
      "metadata": {
        "id": "ncjxI4WdzGrA"
      },
      "source": [
        "### Part (a) -- 7%\n",
        "\n",
        "The data set description text asks us to respect the below train/test split to\n",
        "avoid the \"producer effect\". That is, we want to make sure that no song from a single artist\n",
        "ends up in both the training and test set.\n",
        "\n",
        "Explain why it would be problematic to have\n",
        "some songs from an artist in the training set, and other songs from the same artist in the\n",
        "test set. (Hint: Remember that we want our test accuracy to predict how well the model\n",
        "will perform in practice on a song it hasn't learned about.)"
      ]
    },
    {
      "cell_type": "code",
      "metadata": {
        "id": "2NiYlxpFzGrB",
        "colab": {
          "base_uri": "https://localhost:8080/",
          "height": 70
        },
        "outputId": "60aeda12-7717-4512-8f03-a2726fc22d23"
      },
      "source": [
        "df_train = df[:463715]\n",
        "df_test = df[463715:]\n",
        "\n",
        "# convert to numpy\n",
        "train_xs = df_train[x_labels].to_numpy()\n",
        "train_ts = df_train[t_label].to_numpy()\n",
        "test_xs = df_test[x_labels].to_numpy()\n",
        "test_ts = df_test[t_label].to_numpy()\n",
        "\n",
        "# Write your explanation here\n",
        "'''\n",
        "Songs from the same artist will have a high correlation between them through the years taking \n",
        "the same artist in the trianing data and use it again in the test, \n",
        "we will maybe get a small loss but dos not mean we trained wall our model.\n",
        "mybe our model learned a specific artist really well but will have trouble with others, so we will \n",
        "get a false loss of our model for all artist. In addition, we can identify overfiting more easily.  \n",
        "'''"
      ],
      "execution_count": null,
      "outputs": [
        {
          "output_type": "execute_result",
          "data": {
            "text/plain": [
              "'\\nSongs from the same artist will have a high correlation between them through the years taking \\nthe same artist in the trianing data and use it again in the test, \\nwe will maybe get a small loss but dos not mean we trained wall our model.\\nmybe our model learned a specific artist really well but will have trouble with others, so we will \\nget a false loss of our model for all artist. In addition, we can identify overfiting more easily.  \\n'"
            ],
            "application/vnd.google.colaboratory.intrinsic+json": {
              "type": "string"
            }
          },
          "metadata": {},
          "execution_count": 4
        }
      ]
    },
    {
      "cell_type": "markdown",
      "metadata": {
        "id": "BYSzd4XUzGrB"
      },
      "source": [
        "### Part (b) -- 7%\n",
        "\n",
        "It can be beneficial to **normalize** the columns, so that each column (feature)\n",
        "has the *same* mean and standard deviation."
      ]
    },
    {
      "cell_type": "code",
      "metadata": {
        "id": "TPuWLksJzGrB"
      },
      "source": [
        "feature_means = df_train.mean()[1:].to_numpy() # the [1:] removes the mean of the \"year\" field\n",
        "feature_stds  = df_train.std()[1:].to_numpy()\n",
        "\n",
        "train_norm_xs = (train_xs - feature_means) / feature_stds\n",
        "test_norm_xs = (test_xs - feature_means) / feature_stds"
      ],
      "execution_count": null,
      "outputs": []
    },
    {
      "cell_type": "markdown",
      "metadata": {
        "id": "U4zmZk6ezGrC"
      },
      "source": [
        "Notice how in our code, we normalized the test set using the *training data means and standard deviations*.\n",
        "This is *not* a bug.\n",
        "\n",
        "Explain why it would be improper to compute and use test set means\n",
        "and standard deviations. (Hint: Remember what we want to use the test accuracy to measure.)"
      ]
    },
    {
      "cell_type": "code",
      "metadata": {
        "id": "CxZy6brwzGrC",
        "colab": {
          "base_uri": "https://localhost:8080/",
          "height": 52
        },
        "outputId": "68654b9c-7cfe-4335-fc11-64d150a88a7f"
      },
      "source": [
        "# Write your explanation here\n",
        "'''\n",
        "we have few resones for that: \n",
        "1) train data is smaller than the test data than so we will not get the a good mean and standard deviation. \n",
        "2) The model is have to based only on training data and because of that we can use the mean and standard deviation of the test data\n",
        "'''"
      ],
      "execution_count": null,
      "outputs": [
        {
          "output_type": "execute_result",
          "data": {
            "text/plain": [
              "'\\nwe have few resones for that: \\n1) train data is smaller than the test data than so we will not get the a good mean and standard deviation. \\n2) The model is have to based only on training data and because of that we can use the mean and standard deviation of the test data\\n'"
            ],
            "application/vnd.google.colaboratory.intrinsic+json": {
              "type": "string"
            }
          },
          "metadata": {},
          "execution_count": 7
        }
      ]
    },
    {
      "cell_type": "markdown",
      "metadata": {
        "id": "k4GqL5J_zGrC"
      },
      "source": [
        "### Part (c) -- 7%\n",
        "\n",
        "Finally, we'll move some of the data in our training set into a validation set.\n",
        "\n",
        "Explain why we should limit how many times we use the test set, and that we should use the validation\n",
        "set during the model building process."
      ]
    },
    {
      "cell_type": "code",
      "metadata": {
        "id": "HsXv1U3gzGrC",
        "colab": {
          "base_uri": "https://localhost:8080/",
          "height": 104
        },
        "outputId": "f2866b20-bcf2-4874-eb76-e8cf9c16eaf3"
      },
      "source": [
        "# shuffle the training set\n",
        "reindex = np.random.permutation(len(train_xs))\n",
        "train_xs = train_xs[reindex]\n",
        "train_norm_xs = train_norm_xs[reindex]\n",
        "train_ts = train_ts[reindex]\n",
        "\n",
        "# use the first 50000 elements of `train_xs` as the validation set\n",
        "train_xs, val_xs           = train_xs[50000:], train_xs[:50000]\n",
        "train_norm_xs, val_norm_xs = train_norm_xs[50000:], train_norm_xs[:50000]\n",
        "train_ts, val_ts           = train_ts[50000:], train_ts[:50000]\n",
        "\n",
        "# Write your explanation here\n",
        "'''\n",
        "The success rate of the classification is then evaluated with a set of validation samples {x1, x2, . . . , xn}\n",
        "whose properties are similar to those of the training set. \n",
        "The evaluation of the classification/regression is done by comparing the original labels with the labels associated by the trained model. Usually,\n",
        "the learning model might still be changed (especially hyper-parameters, like the size or\n",
        "depth of the machine learning model) during the validation and therefore there is a need\n",
        "for final testing of the machine learning system on an additional data that is the test data,\n",
        "where the model can not be changed.\n",
        "The need to limit the use of test data comes from overfiting again as said in part a'. \n",
        "'''"
      ],
      "execution_count": null,
      "outputs": [
        {
          "output_type": "execute_result",
          "data": {
            "text/plain": [
              "\"\\nThe success rate of the classification is then evaluated with a set of validation samples {x1, x2, . . . , xn}\\nwhose properties are similar to those of the training set. \\nThe evaluation of the classification/regression is done by comparing the original labels with the labels associated by the trained model. Usually,\\nthe learning model might still be changed (especially hyper-parameters, like the size or\\ndepth of the machine learning model) during the validation and therefore there is a need\\nfor final testing of the machine learning system on an additional data that is the test data,\\nwhere the model can not be changed.\\nThe need to limit the use of test data comes from overfiting again as said in part a'. \\n\""
            ],
            "application/vnd.google.colaboratory.intrinsic+json": {
              "type": "string"
            }
          },
          "metadata": {},
          "execution_count": 6
        }
      ]
    },
    {
      "cell_type": "markdown",
      "metadata": {
        "id": "Gy4lt445zGrD"
      },
      "source": [
        "## Part 2. Classification (79%)\n",
        "\n",
        "We will first build a *classification* model to perform decade classification.\n",
        "These helper functions are written for you. All other code that you write in this section should be vectorized whenever possible (i.e., avoid unnecessary loops)."
      ]
    },
    {
      "cell_type": "code",
      "metadata": {
        "id": "E6BA_s-kzGrD"
      },
      "source": [
        "def sigmoid(z):\n",
        "  return 1 / (1 + np.exp(-z))\n",
        "    \n",
        "def cross_entropy(t, y):\n",
        "  return -t * np.log(y + 1e-7) - (1 - t) * np.log(1 - y + 1e-7)\n",
        "\n",
        "def cost(y, t):\n",
        "  return np.mean(cross_entropy(t, y))\n",
        "\n",
        "def get_accuracy(y, t):\n",
        "  acc = 0\n",
        "  N = 0\n",
        "  for i in range(len(y)):\n",
        "    N += 1\n",
        "    if (y[i] >= 0.5 and t[i] == 1) or (y[i] < 0.5 and t[i] == 0):\n",
        "      acc += 1\n",
        "  return acc / N"
      ],
      "execution_count": null,
      "outputs": []
    },
    {
      "cell_type": "markdown",
      "metadata": {
        "id": "e8ZIfooBzGrD"
      },
      "source": [
        "### Part (a) -- 7%\n",
        "\n",
        "Write a function `pred` that computes the prediction `y` based on logistic regression, i.e., a single layer with weights `w` and bias `b`. The output is given by: \n",
        "\\begin{equation}\n",
        "y = \\sigma({\\bf w}^T {\\bf x} + b),\n",
        "\\end{equation}\n",
        "where the value of $y$ is an estimate of the probability that the song is released in the current century, namely ${\\rm year} =1$."
      ]
    },
    {
      "cell_type": "code",
      "metadata": {
        "id": "naY5mT4_zGrD"
      },
      "source": [
        "def pred(w, b, X):\n",
        "  \"\"\"\n",
        "  Returns the prediction `y` of the target based on the weights `w` and scalar bias `b`.\n",
        "\n",
        "  Preconditions: np.shape(w) == (90,)\n",
        "                 type(b) == float\n",
        "                 np.shape(X) = (N, 90) for some N\n",
        "\n",
        "  >>> pred(np.zeros(90), 1, np.ones([2, 90]))\n",
        "  array([0.73105858, 0.73105858]) # It's okay if your output differs in the last decimals\n",
        "  \"\"\"\n",
        "  # Your code goes here \n",
        "  return sigmoid(np.matmul(X, w) + b)\n"
      ],
      "execution_count": null,
      "outputs": []
    },
    {
      "cell_type": "markdown",
      "metadata": {
        "id": "bxNdmSd3zGrE"
      },
      "source": [
        "### Part (b) -- 7%\n",
        "\n",
        "Write a function `derivative_cost` that computes and returns the gradients \n",
        "$\\frac{\\partial\\mathcal{L}}{\\partial {\\bf w}}$ and\n",
        "$\\frac{\\partial\\mathcal{L}}{\\partial b}$. Here, `X` is the input, `y` is the prediction, and `t` is the true label.\n",
        "\n",
        "\n"
      ]
    },
    {
      "cell_type": "code",
      "metadata": {
        "id": "P80bu7qmzGrE"
      },
      "source": [
        "def derivative_cost(X, y, t):\n",
        "  \"\"\"\n",
        "  Returns a tuple containing the gradients dLdw and dLdb.\n",
        "\n",
        "  Precondition: np.shape(X) == (N, 90) for some N\n",
        "                np.shape(y) == (N,)\n",
        "                np.shape(t) == (N,)\n",
        "\n",
        "  Postcondition: np.shape(dLdw) = (90,)\n",
        "           type(dLdb) = float\n",
        "  \"\"\"\n",
        "  # Your code goes here\n",
        "  N = len(y)\n",
        "  dLdw = np.matmul(np.transpose(X), y-t)/N\n",
        "  dLdb = np.sum(y-t)/N\n",
        "  return dLdw, dLdb \n",
        "  \n"
      ],
      "execution_count": null,
      "outputs": []
    },
    {
      "cell_type": "markdown",
      "metadata": {
        "id": "okPRGM3BjKe2"
      },
      "source": [
        "# **Explenation on Gradients**\n",
        "\n",
        "\n"
      ]
    },
    {
      "cell_type": "markdown",
      "metadata": {
        "id": "kHfmPVdsg0eX"
      },
      "source": [
        "**Add here an explaination on how the gradients are computed**:\n",
        "\n",
        "Write your explanation here. Use Latex to write mathematical expressions. [Here is a brief tutorial on latex for notebooks.](https://www.math.ubc.ca/~pwalls/math-python/jupyter/latex/)\n",
        "\n"
      ]
    },
    {
      "cell_type": "markdown",
      "source": [
        "\n",
        "\\begin{gathered}\n",
        "  L = \\frac{1}{N}\\sum\\limits_{n = 1}^N {\\left( { - {t_n}\\log \\left( {{y_n}} \\right) - \\left( {1 - {t_n}} \\right)\\log \\left( {1 - {y_n}} \\right)} \\right)}  \\hfill \\\\\n",
        "  \\frac{{\\partial L}}{{\\partial {\\omega _k}}} = \\frac{1}{N}\\sum\\limits_{n = 1}^N {\\frac{{\\partial L}}{{\\partial {y_n}}} \\cdot \\frac{{\\partial {y_n}}}{{\\partial {z_n}}} \\cdot \\frac{{\\partial {z_n}}}{{\\partial {\\omega _k}}}}  \\hfill \\\\\n",
        "  \\frac{{\\partial L}}{{\\partial {y_n}}} = \\frac{{\\partial \\left( { - {t_n}\\log \\left( {{y_n}} \\right) - \\left( {1 - {t_n}} \\right)\\log \\left( {1 - {y_n}} \\right)} \\right)}}{{\\partial {y_n}}} =  - \\frac{{{t_n}}}{{{y_n}}} + \\frac{{1 - {t_n}}}{{1 - {y_n}}} = \\frac{{ - {t_n}\\left( {1 - {y_n}} \\right) + {y_n}\\left( {1 - {t_n}} \\right)}}{{{y_n}\\left( {1 - {y_n}} \\right)}} = \\frac{{{y_n} - {t_n}}}{{{y_n}\\left( {1 - {y_n}} \\right)}} \\hfill \\\\\n",
        "  \\frac{{\\partial {y_n}}}{{\\partial {z_n}}} = \\frac{{\\partial \\left( {\\sigma \\left( {{z_n}} \\right)} \\right)}}{{\\partial {z_n}}} = \\sigma \\left( {{z_n}} \\right)\\left( {1 - \\sigma \\left( {{z_n}} \\right)} \\right) = {y_n}\\left( {1 - {y_n}} \\right) \\hfill \\\\\n",
        "  \\frac{{\\partial {z_n}}}{{\\partial {\\omega _k}}} = \\frac{{\\partial \\left( {{\\omega ^T}X + b} \\right)}}{{\\partial {\\omega _k}}} = {X_{nk}} \\hfill \\\\\n",
        "  \\frac{{\\partial L}}{{\\partial {\\omega _k}}} = \\frac{1}{N}\\sum\\limits_{n = 1}^N {\\frac{{\\partial L}}{{\\partial {y_n}}} \\cdot \\frac{{\\partial {y_n}}}{{\\partial {z_n}}} \\cdot \\frac{{\\partial {z_n}}}{{\\partial {\\omega _k}}}}  = \\frac{1}{N}\\sum\\limits_{n = 1}^N {\\frac{{{y_n} - {t_n}}}{{{y_n}\\left( {1 - {y_n}} \\right)}} \\cdot {y_n}\\left( {1 - {y_n}} \\right) \\cdot {X_{nk}}}  = \\frac{1}{N}\\sum\\limits_{n = 1}^N {\\left( {{y_n} - {t_n}} \\right){X_{nk}}}  = \\frac{1}{N}{\\left( {\\underline y  - \\underline t } \\right)^T}\\underline {{X_k}}  \\hfill \\\\\n",
        "  \\frac{{\\partial L}}{{\\partial \\omega }} = \\frac{1}{N}{\\left( {\\underline y  - \\underline t } \\right)^T}X \\hfill \\\\ \n",
        "\\end{gathered}\n",
        "\n",
        "and in the same way\n",
        "\\begin{gathered}\n",
        "  \\frac{{\\partial {z_n}}}{{\\partial b}} = \\frac{{\\partial \\left( {{\\omega ^T}X + b} \\right)}}{{\\partial b}} = 1 \\hfill \\\\\n",
        "  \\frac{{\\partial L}}{{\\partial b}} = \\frac{1}{N}\\sum\\limits_{n = 1}^N {\\frac{{\\partial L}}{{\\partial {y_n}}} \\cdot \\frac{{\\partial {y_n}}}{{\\partial {z_n}}} \\cdot \\frac{{\\partial {z_n}}}{{\\partial {\\omega _k}}}}  = \\frac{1}{N}\\sum\\limits_{n = 1}^N {\\frac{{{y_n} - {t_n}}}{{{y_n}\\left( {1 - {y_n}} \\right)}} \\cdot {y_n}\\left( {1 - {y_n}} \\right) \\cdot 1}  = \\frac{1}{N}\\sum\\limits_{n = 1}^N {{y_n} - {t_n}}  \\hfill \\\\ \n",
        "\\end{gathered}\n",
        "\n",
        "\n"
      ],
      "metadata": {
        "id": "km3rt-0Jx1Nv"
      }
    },
    {
      "cell_type": "markdown",
      "metadata": {
        "id": "XhQXAKd4zGrE"
      },
      "source": [
        "### Part (c) -- 7%\n",
        "\n",
        "We can check that our derivative is implemented correctly using the finite difference rule. In 1D, the\n",
        "finite difference rule tells us that for small $h$, we should have\n",
        "\n",
        "$$\\frac{f(x+h) - f(x)}{h} \\approx f'(x)$$\n",
        "\n",
        "Show that $\\frac{\\partial\\mathcal{L}}{\\partial b}$  is implement correctly\n",
        "by comparing the result from `derivative_cost` with the empirical cost derivative computed using the above numerical approximation.\n"
      ]
    },
    {
      "cell_type": "code",
      "metadata": {
        "id": "SpRTD-fozGrF",
        "colab": {
          "base_uri": "https://localhost:8080/"
        },
        "outputId": "7b6ecf4d-287e-4678-fe9a-77c301a3934c"
      },
      "source": [
        "# Your code goes here\n",
        "\n",
        "X = train_norm_xs[:10]\n",
        "t = np.squeeze(train_ts[:10])\n",
        "w = np.random.randn(90)\n",
        "b = np.random.rand(1)\n",
        "y = pred(w, b, X)\n",
        "C = cost(y, t)\n",
        "\n",
        "r3, r1 = derivative_cost(X, y, t)\n",
        "h = 10e-5\n",
        "b_n = b+h\n",
        "y_n = pred(w, b_n, X)\n",
        "C_n = cost(y_n, t)\n",
        "r2 = (C_n-C)/h\n",
        "print(\"The analytical results is -\", r1)\n",
        "print(\"The algorithm results is - \", r2)\n"
      ],
      "execution_count": null,
      "outputs": [
        {
          "output_type": "stream",
          "name": "stdout",
          "text": [
            "The analytical results is - -0.08938058275113589\n",
            "The algorithm results is -  -0.08905630169753209\n"
          ]
        }
      ]
    },
    {
      "cell_type": "markdown",
      "metadata": {
        "id": "MTiplTPhzGrF"
      },
      "source": [
        "### Part (d) -- 7%\n",
        "\n",
        "Show that $\\frac{\\partial\\mathcal{L}}{\\partial {\\bf w}}$  is implement correctly."
      ]
    },
    {
      "cell_type": "code",
      "metadata": {
        "id": "oVTsHgnPzGrF",
        "colab": {
          "base_uri": "https://localhost:8080/"
        },
        "outputId": "d71b8baa-4720-4a48-b0b8-094128c5a315"
      },
      "source": [
        "# Your code goes here. You might find this below code helpful: but it's\n",
        "# up to you to figure out how/why, and how to modify the code\n",
        "r4 = np.zeros(len(w))\n",
        "C_N = np.zeros(len(w))\n",
        "for i in range(len(w)):\n",
        "  vec_h = np.zeros(len(w))\n",
        "  vec_h[i] = h\n",
        "  y_n = pred(w + vec_h, b, X)\n",
        "  C_N[i] = cost(y_n, t)\n",
        "  r4[i] = (C_N[i]-C)/h\n",
        "for i in range(len(w)):\n",
        "  print(\"The analytical results is w_{} -\".format(i),r3[i])\n",
        "  print(\"The algorithm results is w_{} -\".format(i), r4[i]) \n",
        "\n",
        "#print(\"The analytical results is -\", r3)\n",
        "#print(\"The algorithm results is - \", r4)"
      ],
      "execution_count": null,
      "outputs": [
        {
          "output_type": "stream",
          "name": "stdout",
          "text": [
            "The analytical results is w_0 - 0.23270172797215433\n",
            "The algorithm results is w_0 - 0.23250727338552934\n",
            "The analytical results is w_1 - 0.08859232985646488\n",
            "The algorithm results is w_1 - 0.08853440076617147\n",
            "The analytical results is w_2 - 0.23225943346771186\n",
            "The algorithm results is w_2 - 0.2322150430789094\n",
            "The analytical results is w_3 - -0.2500699121583413\n",
            "The algorithm results is w_3 - -0.24931986985166077\n",
            "The analytical results is w_4 - -0.2496140827247272\n",
            "The algorithm results is w_4 - -0.24916513414741104\n",
            "The analytical results is w_5 - -0.31410320102149186\n",
            "The algorithm results is w_5 - -0.31390078017778933\n",
            "The analytical results is w_6 - -0.007170532573928032\n",
            "The algorithm results is w_6 - -0.006740225262369393\n",
            "The analytical results is w_7 - 0.22998745288199968\n",
            "The algorithm results is w_7 - 0.22976456923284871\n",
            "The analytical results is w_8 - 0.2770700120292182\n",
            "The algorithm results is w_8 - 0.27671186978217577\n",
            "The analytical results is w_9 - 0.3264290144091252\n",
            "The algorithm results is w_9 - 0.3260862789478125\n",
            "The analytical results is w_10 - -0.18509215063377152\n",
            "The algorithm results is w_10 - -0.18460822535537602\n",
            "The analytical results is w_11 - -0.3393698730007026\n",
            "The algorithm results is w_11 - -0.3386050847931088\n",
            "The analytical results is w_12 - -0.10524200315500398\n",
            "The algorithm results is w_12 - -0.10515383776610321\n",
            "The analytical results is w_13 - -0.1755707581080175\n",
            "The algorithm results is w_13 - -0.17541847328494953\n",
            "The analytical results is w_14 - -0.2239616489793556\n",
            "The algorithm results is w_14 - -0.2235890131663254\n",
            "The analytical results is w_15 - -0.17009144414475572\n",
            "The algorithm results is w_15 - -0.16995886308102115\n",
            "The analytical results is w_16 - -0.18526868267414737\n",
            "The algorithm results is w_16 - -0.1852037981375787\n",
            "The analytical results is w_17 - -0.21904770893318132\n",
            "The algorithm results is w_17 - -0.21888519389445804\n",
            "The analytical results is w_18 - -0.5125664171236125\n",
            "The algorithm results is w_18 - -0.5118566811335157\n",
            "The analytical results is w_19 - -0.46028243662842216\n",
            "The algorithm results is w_19 - -0.4598756555207473\n",
            "The analytical results is w_20 - -0.21747914717445987\n",
            "The algorithm results is w_20 - -0.21724841408943263\n",
            "The analytical results is w_21 - -0.5915155836080135\n",
            "The algorithm results is w_21 - -0.5909494304123797\n",
            "The analytical results is w_22 - -0.18638664554268375\n",
            "The algorithm results is w_22 - -0.1863309850502759\n",
            "The analytical results is w_23 - -0.06571697390134086\n",
            "The algorithm results is w_23 - -0.06558295975622741\n",
            "The analytical results is w_24 - -0.05349680192505975\n",
            "The algorithm results is w_24 - -0.053525038152812954\n",
            "The analytical results is w_25 - 0.33928202870070084\n",
            "The algorithm results is w_25 - 0.338552867740205\n",
            "The analytical results is w_26 - -0.31089741812004335\n",
            "The algorithm results is w_26 - -0.31000981279394324\n",
            "The analytical results is w_27 - -0.39918061433962937\n",
            "The algorithm results is w_27 - -0.39831005813617537\n",
            "The analytical results is w_28 - -0.047880075011128814\n",
            "The algorithm results is w_28 - -0.047773810090134816\n",
            "The analytical results is w_29 - 0.1896180322011944\n",
            "The algorithm results is w_29 - 0.1891625738936753\n",
            "The analytical results is w_30 - -0.1855078550181423\n",
            "The algorithm results is w_30 - -0.18461615924447727\n",
            "The analytical results is w_31 - -0.35041645388495296\n",
            "The algorithm results is w_31 - -0.3500408565892954\n",
            "The analytical results is w_32 - 0.5183463340869496\n",
            "The algorithm results is w_32 - 0.5175137750157432\n",
            "The analytical results is w_33 - 0.07536840341685427\n",
            "The algorithm results is w_33 - 0.07569739585822077\n",
            "The analytical results is w_34 - 0.16581148791978018\n",
            "The algorithm results is w_34 - 0.16570027328022263\n",
            "The analytical results is w_35 - 0.0028841385269536444\n",
            "The algorithm results is w_35 - 0.0025278100235226475\n",
            "The analytical results is w_36 - 0.34876139717692506\n",
            "The algorithm results is w_36 - 0.34812928860539216\n",
            "The analytical results is w_37 - -0.29010702682227535\n",
            "The algorithm results is w_37 - -0.2894960770971622\n",
            "The analytical results is w_38 - 0.11342458924680907\n",
            "The algorithm results is w_38 - 0.11351023199157595\n",
            "The analytical results is w_39 - 0.04073599083326746\n",
            "The algorithm results is w_39 - 0.04047665181250437\n",
            "The analytical results is w_40 - 0.21872925366663565\n",
            "The algorithm results is w_40 - 0.21833048175601277\n",
            "The analytical results is w_41 - 0.04988504243462575\n",
            "The algorithm results is w_41 - 0.04990315640718279\n",
            "The analytical results is w_42 - 0.2683134900238726\n",
            "The algorithm results is w_42 - 0.2680114177255888\n",
            "The analytical results is w_43 - 0.24841479065657418\n",
            "The algorithm results is w_43 - 0.24797573214829782\n",
            "The analytical results is w_44 - -0.2327648683870583\n",
            "The algorithm results is w_44 - -0.23259557673238618\n",
            "The analytical results is w_45 - -0.14983531511597073\n",
            "The algorithm results is w_45 - -0.14993357919212968\n",
            "The analytical results is w_46 - 0.12275315222803933\n",
            "The algorithm results is w_46 - 0.12257303831919586\n",
            "The analytical results is w_47 - -0.11370308607051212\n",
            "The algorithm results is w_47 - -0.11352119785978942\n",
            "The analytical results is w_48 - 0.08618980625757595\n",
            "The algorithm results is w_48 - 0.08628309369207443\n",
            "The analytical results is w_49 - 0.10485387422287858\n",
            "The algorithm results is w_49 - 0.10461173153508696\n",
            "The analytical results is w_50 - 0.11775483605116357\n",
            "The algorithm results is w_50 - 0.11754459252166782\n",
            "The analytical results is w_51 - 0.14140892023784873\n",
            "The algorithm results is w_51 - 0.1411874521872747\n",
            "The analytical results is w_52 - 0.040493667174305484\n",
            "The algorithm results is w_52 - 0.04018409468731221\n",
            "The analytical results is w_53 - -0.02046231933367658\n",
            "The algorithm results is w_53 - -0.020379281688853723\n",
            "The analytical results is w_54 - -0.039079424604732016\n",
            "The algorithm results is w_54 - -0.039134127454154566\n",
            "The analytical results is w_55 - -0.008742428347654086\n",
            "The algorithm results is w_55 - -0.00876448051023715\n",
            "The analytical results is w_56 - -0.028755296619542837\n",
            "The algorithm results is w_56 - -0.028755571683802827\n",
            "The analytical results is w_57 - -0.03168885101611087\n",
            "The algorithm results is w_57 - -0.031762179544259084\n",
            "The analytical results is w_58 - -0.09508200317920877\n",
            "The algorithm results is w_58 - -0.09521229866304992\n",
            "The analytical results is w_59 - -0.1318473025758233\n",
            "The algorithm results is w_59 - -0.13150323941779618\n",
            "The analytical results is w_60 - 0.3542378109953059\n",
            "The algorithm results is w_60 - 0.35347515951134056\n",
            "The analytical results is w_61 - 0.1314918619139542\n",
            "The algorithm results is w_61 - 0.13150572085951495\n",
            "The analytical results is w_62 - -0.06656725192767327\n",
            "The algorithm results is w_62 - -0.06623854518217343\n",
            "The analytical results is w_63 - 0.17553035123296196\n",
            "The algorithm results is w_63 - 0.17508344913430562\n",
            "The analytical results is w_64 - 0.013323412067867116\n",
            "The algorithm results is w_64 - 0.013214712897280378\n",
            "The analytical results is w_65 - 0.2977713981591326\n",
            "The algorithm results is w_65 - 0.2968399347080819\n",
            "The analytical results is w_66 - -0.19030916042038698\n",
            "The algorithm results is w_66 - -0.18998712817186458\n",
            "The analytical results is w_67 - 0.02060977770538989\n",
            "The algorithm results is w_67 - 0.02095647628319597\n",
            "The analytical results is w_68 - -0.2558759156169391\n",
            "The algorithm results is w_68 - -0.255426834558925\n",
            "The analytical results is w_69 - 0.12404157155068288\n",
            "The algorithm results is w_69 - 0.12384391122832739\n",
            "The analytical results is w_70 - 0.06625269465678596\n",
            "The algorithm results is w_70 - 0.06612527370108978\n",
            "The analytical results is w_71 - 0.4205760328930924\n",
            "The algorithm results is w_71 - 0.4195522892258552\n",
            "The analytical results is w_72 - -0.2338540945725296\n",
            "The algorithm results is w_72 - -0.23340643008129547\n",
            "The analytical results is w_73 - -0.3734161384562912\n",
            "The algorithm results is w_73 - -0.3726579243590322\n",
            "The analytical results is w_74 - 0.1829196236775396\n",
            "The algorithm results is w_74 - 0.18247692062711707\n",
            "The analytical results is w_75 - 0.09375930326273123\n",
            "The algorithm results is w_75 - 0.09362582189531565\n",
            "The analytical results is w_76 - -0.29874873503158283\n",
            "The algorithm results is w_76 - -0.2981150575909197\n",
            "The analytical results is w_77 - -0.5318130462667093\n",
            "The algorithm results is w_77 - -0.5308779484147763\n",
            "The analytical results is w_78 - -0.11719331826615016\n",
            "The algorithm results is w_78 - -0.11675357189933067\n",
            "The analytical results is w_79 - -0.18754133720912175\n",
            "The algorithm results is w_79 - -0.18729045048626602\n",
            "The analytical results is w_80 - -0.1583639623713747\n",
            "The algorithm results is w_80 - -0.15803495592603412\n",
            "The analytical results is w_81 - 0.3825189571523352\n",
            "The algorithm results is w_81 - 0.3819569885532559\n",
            "The analytical results is w_82 - -0.318460456503318\n",
            "The algorithm results is w_82 - -0.3177659270559019\n",
            "The analytical results is w_83 - -0.17554567293438283\n",
            "The algorithm results is w_83 - -0.1753606936372165\n",
            "The analytical results is w_84 - -0.05054126937103707\n",
            "The algorithm results is w_84 - -0.05060037587600874\n",
            "The analytical results is w_85 - 0.03217518588302143\n",
            "The algorithm results is w_85 - 0.03184704628900192\n",
            "The analytical results is w_86 - -0.25877044703242535\n",
            "The algorithm results is w_86 - -0.2584390068616216\n",
            "The analytical results is w_87 - -0.20396901094639092\n",
            "The algorithm results is w_87 - -0.20380692590915572\n",
            "The analytical results is w_88 - 0.17329179188765947\n",
            "The algorithm results is w_88 - 0.17297244464309358\n",
            "The analytical results is w_89 - 0.016143660254478907\n",
            "The algorithm results is w_89 - 0.01664503232579051\n"
          ]
        }
      ]
    },
    {
      "cell_type": "markdown",
      "metadata": {
        "id": "pgBTPF_2zGrG"
      },
      "source": [
        "### Part (e) -- 7%\n",
        "\n",
        "Now that you have a gradient function that works, we can actually run gradient descent. \n",
        "Complete the following code that will run stochastic: gradient descent training:"
      ]
    },
    {
      "cell_type": "code",
      "metadata": {
        "id": "nW4DEuuPzGrG"
      },
      "source": [
        "def run_gradient_descent(w0, b0, train_norm_xs = train_norm_xs, train_ts = train_ts, val_norm_xs = val_norm_xs, val_ts = val_ts, mu=0.1, batch_size=100, max_iters=100):\n",
        "  \"\"\"Return the values of (w, b) after running gradient descent for max_iters.\n",
        "  We use:\n",
        "    - train_norm_xs and train_ts as the training set\n",
        "    - val_norm_xs and val_ts as the test set\n",
        "    - mu as the learning rate\n",
        "    - (w0, b0) as the initial values of (w, b)\n",
        "\n",
        "  Precondition: np.shape(w0) == (90,)\n",
        "                type(b0) == float\n",
        " \n",
        "  Postcondition: np.shape(w) == (90,)\n",
        "                 type(b) == float\n",
        "  \"\"\"\n",
        "  w = w0\n",
        "  b = b0\n",
        "  iter = 0\n",
        "  val_acc_all = np.array([])\n",
        "  val_cost_all = []\n",
        "  while iter < max_iters:\n",
        "    # shuffle the training set (there is code above for how to do this)\n",
        "    reindex = np.random.permutation(len(train_norm_xs))\n",
        "    train_norm_xs = train_norm_xs[reindex]\n",
        "    train_ts = train_ts[reindex]\n",
        "\n",
        "    for i in range(0, len(train_norm_xs), batch_size): # iterate over each minibatch\n",
        "      # minibatch that we are working with:\n",
        "      X = train_norm_xs[i:(i + batch_size)]\n",
        "      t = train_ts[i:(i + batch_size), 0]\n",
        "\n",
        "      # since len(train_norm_xs) does not divide batch_size evenly, we will skip over\n",
        "      # the \"last\" minibatch\n",
        "      if np.shape(X)[0] != batch_size:\n",
        "        continue\n",
        "\n",
        "      # compute the prediction\n",
        "      y = pred(w, b, X)\n",
        "      # update w and b\n",
        "      dLdw, dLdb = derivative_cost(X, y, t)\n",
        "      w = w - mu*dLdw\n",
        "      b = b - mu*dLdb\n",
        "      # increment the iteration count\n",
        "      iter += 1\n",
        "      # compute and print the *validation* loss and accuracy\n",
        "      if (iter % 10 == 0):\n",
        "        y_val = pred(w, b, val_norm_xs)\n",
        "        val_ts = np.squeeze(val_ts)\n",
        "        val_cost = cost(y_val, val_ts)\n",
        "        val_cost_all.append(val_cost)\n",
        "        val_acc = get_accuracy(y_val, val_ts)\n",
        "        #print(\"Iter %d. [Val Acc %.0f%%, Loss %f]\" % (\n",
        "                #iter, val_acc * 100, val_cost))\n",
        "        val_acc_all = np.append(val_acc_all, np.array([val_acc]))\n",
        "\n",
        "      if iter >= max_iters:\n",
        "        break\n",
        "\n",
        "      # Think what parameters you should return for further use\n",
        "      \n",
        "  return w, b, val_acc_all, val_cost_all\n",
        "\n"
      ],
      "execution_count": null,
      "outputs": []
    },
    {
      "cell_type": "markdown",
      "metadata": {
        "id": "-MqzT0jGzGrH"
      },
      "source": [
        "### Part (f) -- 7%\n",
        "\n",
        "Call `run_gradient_descent` with the weights and biases all initialized to zero.\n",
        "Show that if the learning rate $\\mu$ is too small, then convergence is slow.\n",
        "Also, show that if $\\mu$ is too large, then the optimization algorirthm does not converge. The demonstration should be made using plots showing these effects."
      ]
    },
    {
      "cell_type": "code",
      "metadata": {
        "id": "tE32Iqo6zGrH",
        "colab": {
          "base_uri": "https://localhost:8080/",
          "height": 573
        },
        "outputId": "9c42eeac-c8e3-4899-85f2-919f38bbd474"
      },
      "source": [
        "w0 = np.squeeze(np.zeros(90))\n",
        "b0 = 0\n",
        "big_mu = 10\n",
        "_, _, val_acc_big, val_cost_big = run_gradient_descent(w0, b0, mu = big_mu)\n",
        "small_mu = 10**-4\n",
        "_, _, val_acc_small, val_cost_small = run_gradient_descent(w0, b0, mu = small_mu)\n",
        "iters = 10*(np.array([i for i in range(len(val_acc_big))])+1)\n",
        "plt.plot(iters, val_acc_big, label = \"mu = 10\")\n",
        "plt.plot(iters, val_acc_small, label = \"mu = 10^-4\")\n",
        "plt.grid(True)\n",
        "plt.xlabel(\"iterations\")\n",
        "plt.ylabel(\"accuracy\")\n",
        "plt.title(\"accuracy by iterations\")\n",
        "plt.legend()\n",
        "plt.show()\n",
        "plt.plot(iters, val_cost_big, label = \"mu = 10\")\n",
        "plt.plot(iters, val_cost_small, label = \"mu = 10^-4\")\n",
        "plt.xlabel(\"iterations\")\n",
        "plt.ylabel(\"cost\")\n",
        "plt.title(\"cost by iterations\")\n",
        "plt.legend()\n",
        "plt.grid(True)\n",
        "plt.show()"
      ],
      "execution_count": null,
      "outputs": [
        {
          "output_type": "display_data",
          "data": {
            "text/plain": [
              "<Figure size 432x288 with 1 Axes>"
            ],
            "image/png": "[encoded data removed]"
          },
          "metadata": {
            "needs_background": "light"
          }
        },
        {
          "output_type": "display_data",
          "data": {
            "text/plain": [
              "<Figure size 432x288 with 1 Axes>"
            ],
            "image/png": "[encoded data removed]"
          },
          "metadata": {
            "needs_background": "light"
          }
        }
      ]
    },
    {
      "cell_type": "markdown",
      "metadata": {
        "id": "S44GmUZ12o-g"
      },
      "source": [
        "**Explain and discuss your results here:**\n"
      ]
    },
    {
      "cell_type": "markdown",
      "source": [
        "We can see by the cost plot that for small μ the cost function doesn't change, and for big μ the cost function jumps between high values, thus in both cases the cost function doesn't converge."
      ],
      "metadata": {
        "id": "V2eSvqu7Qpcu"
      }
    },
    {
      "cell_type": "markdown",
      "metadata": {
        "id": "EZ5HlDFAzGrH"
      },
      "source": [
        "### Part (g) -- 7%\n",
        "\n",
        "Find the optimial value of ${\\bf w}$ and $b$ using your code. Explain how you chose\n",
        "the learning rate $\\mu$ and the batch size. Show plots demostrating good and bad behaviours."
      ]
    },
    {
      "cell_type": "code",
      "metadata": {
        "id": "1dFOFSwgzGrI",
        "colab": {
          "base_uri": "https://localhost:8080/",
          "height": 1000
        },
        "outputId": "85edd529-12c1-4af6-86d8-ea75b55b72ee"
      },
      "source": [
        "w0 = np.random.randn(90)\n",
        "b0 = np.random.randn(1)[0]\n",
        "\n",
        "batch_sizes = [10, 50, 100, 500, 1000]\n",
        "mu = [0.1, 0.3, 0.5, 0.7, 1]\n",
        "for i in range(5):\n",
        "  _, _, val_acc, _ = run_gradient_descent(w0, b0, mu = 0.7, batch_size = batch_sizes[i])\n",
        "  plt.plot(iters, val_acc, label = \"batch size = \"+str(batch_sizes[i]))\n",
        "plt.xlabel(\"iterations\")\n",
        "plt.ylabel(\"value accuracy\")\n",
        "plt.legend()\n",
        "plt.title(\"accuracy by iterations for different batch sizes\")\n",
        "plt.grid(True)\n",
        "plt.show()\n",
        "for i in range(5):\n",
        "  _, _, val_acc, _ = run_gradient_descent(w0, b0, mu = mu[i])\n",
        "  plt.plot(iters, val_acc, label = \"mu = \"+str(mu[i]))\n",
        "plt.xlabel(\"iterations\")\n",
        "plt.ylabel(\"accuracy\")\n",
        "plt.legend()\n",
        "plt.title(\"accuracy by iterations for different mus\")\n",
        "plt.grid(True)\n",
        "plt.show()\n",
        "for i in range(5):\n",
        "  _, _, _, val_cost = run_gradient_descent(w0, b0, mu = 0.7, batch_size = batch_sizes[i])\n",
        "  plt.plot(iters, val_cost, label = \"batch size = \"+str(batch_sizes[i]))\n",
        "plt.xlabel(\"iterations\")\n",
        "plt.ylabel(\"cost\")\n",
        "plt.legend()\n",
        "plt.title(\"cost by iterations for different batch sizes\")\n",
        "plt.grid(True)\n",
        "plt.show()\n",
        "for i in range(5):\n",
        "  _, _, _, val_cost = run_gradient_descent(w0, b0, mu = mu[i])\n",
        "  plt.plot(iters, val_cost, label = \"mu = \"+str(mu[i]))\n",
        "plt.xlabel(\"iterations\")\n",
        "plt.ylabel(\"cost\")\n",
        "plt.legend()\n",
        "plt.title(\"cost by iterations for different mus\")\n",
        "plt.grid(True)\n",
        "plt.show()\n",
        "w, b, _, _ = run_gradient_descent(w0, b0, mu = 0.75)\n",
        "print(\"optimal weights are w = \" + str(w))\n",
        "print(\"optimal bias is b = \" + str(b))"
      ],
      "execution_count": null,
      "outputs": [
        {
          "output_type": "display_data",
          "data": {
            "text/plain": [
              "<Figure size 432x288 with 1 Axes>"
            ],
            "image/png": "[encoded data removed]"
          },
          "metadata": {
            "needs_background": "light"
          }
        },
        {
          "output_type": "display_data",
          "data": {
            "text/plain": [
              "<Figure size 432x288 with 1 Axes>"
            ],
            "image/png": "[encoded data removed]"
          },
          "metadata": {
            "needs_background": "light"
          }
        },
        {
          "output_type": "display_data",
          "data": {
            "text/plain": [
              "<Figure size 432x288 with 1 Axes>"
            ],
            "image/png": "[encoded data removed]"
          },
          "metadata": {
            "needs_background": "light"
          }
        },
        {
          "output_type": "display_data",
          "data": {
            "text/plain": [
              "<Figure size 432x288 with 1 Axes>"
            ],
            "image/png": "[encoded data removed]"
          },
          "metadata": {
            "needs_background": "light"
          }
        },
        {
          "output_type": "stream",
          "name": "stdout",
          "text": [
            "optimal weights are w = [ 1.89751735e+00 -1.24322888e+00 -2.79086545e-01 -7.08112476e-01\n",
            " -4.86513190e-02 -4.12922954e-01  2.32005377e-01 -1.26841196e-01\n",
            " -2.78574476e-01  9.88612360e-02  2.10424878e-01 -2.24506507e-01\n",
            "  3.24761781e-01  3.71059494e-01 -1.28846223e-01  3.54619763e-01\n",
            "  1.53083925e-02  7.47806824e-01  3.38642940e-01 -4.69907846e-01\n",
            "  7.19310671e-02  1.45122348e-01  3.12125659e-01  5.01204617e-01\n",
            " -1.53799275e-01 -1.85789679e-01  1.25764193e-01 -2.42797451e-01\n",
            " -2.07283500e-02  4.46689075e-02 -2.94501609e-01  5.82868025e-02\n",
            " -4.70856437e-01 -9.39946935e-03 -4.61997637e-01 -1.80069470e-01\n",
            "  2.82419473e-02  1.28898423e-01  3.49785984e-01  9.47737258e-02\n",
            " -9.02664465e-02 -1.08260554e-01  1.68631237e-03 -1.64914293e-01\n",
            "  2.24000502e-02  3.40611378e-02  1.87568345e-01 -2.57493271e-01\n",
            "  6.91720413e-02 -2.96070419e-02 -1.26726874e-01  8.28637203e-02\n",
            " -2.21937453e-01 -2.01324010e-01 -9.90109732e-02 -2.05230157e-01\n",
            " -3.22463960e-01  1.44937692e-01 -7.20174289e-02 -2.31877812e-01\n",
            " -2.62856215e-01 -8.98392177e-02 -1.69403513e-01  1.08440019e-01\n",
            " -1.04775532e-01 -2.27960559e-02 -5.64644428e-02  1.23818067e-01\n",
            " -3.88598632e-01 -2.61464015e-02 -2.26630539e-01  4.48262834e-02\n",
            " -2.05345877e-02  5.93207486e-02 -9.91880574e-02 -7.07689417e-02\n",
            " -9.31220562e-02 -1.88093592e-01 -5.96227364e-01 -7.23905934e-02\n",
            " -1.05039540e-01 -7.80016154e-02 -6.12488386e-02  7.87597775e-02\n",
            "  3.43336472e-01 -2.49122839e-01 -1.92919077e-02 -4.60794812e-02\n",
            "  2.78497776e-02 -1.57516577e-01]\n",
            "optimal bias is b = 0.48948701324487554\n"
          ]
        }
      ]
    },
    {
      "cell_type": "markdown",
      "metadata": {
        "id": "pkZt7_932zX2"
      },
      "source": [
        "**Explain and discuss your results here:**\n",
        "\n",
        "\n"
      ]
    },
    {
      "cell_type": "markdown",
      "source": [
        "We can see by the results that for fixed batch size = 500 we get the best accuracy and best convergence for cost function for μ=0.7 and for the same fixed μ=0.7 we get the best results for batch size = 500, 1000 \\\\\n",
        "although batch size = 1000 gives also good results, it costs us in computing time."
      ],
      "metadata": {
        "id": "HW8Rl-VQohj-"
      }
    },
    {
      "cell_type": "markdown",
      "metadata": {
        "id": "1KrQqSj2zGrI"
      },
      "source": [
        "### Part (h) -- 15%\n",
        "\n",
        "Using the values of `w` and `b` from part (g), compute your training accuracy, validation accuracy,\n",
        "and test accuracy. Are there any differences between those three values? If so, why?"
      ]
    },
    {
      "cell_type": "code",
      "metadata": {
        "id": "fuKw2mLozGrI",
        "colab": {
          "base_uri": "https://localhost:8080/"
        },
        "outputId": "39bb3c0b-496d-4577-c226-655363f45e4c"
      },
      "source": [
        "# Write your code here\n",
        "\n",
        "y_train = pred(w, b, train_norm_xs)\n",
        "y_val = pred(w, b, val_norm_xs)\n",
        "y_test = pred(w, b, test_norm_xs)\n",
        "train_acc = get_accuracy(y_train, train_ts)\n",
        "val_acc = get_accuracy(y_val, val_ts)\n",
        "test_acc = get_accuracy(y_test, test_ts)\n",
        "\n",
        "print('train_acc = ', train_acc, ' val_acc = ', val_acc, ' test_acc = ', test_acc)\n"
      ],
      "execution_count": null,
      "outputs": [
        {
          "output_type": "stream",
          "name": "stdout",
          "text": [
            "train_acc =  0.711956298417993  val_acc =  0.71378  test_acc =  0.7102072438504745\n"
          ]
        }
      ]
    },
    {
      "cell_type": "markdown",
      "metadata": {
        "id": "RXZa1u6920M3"
      },
      "source": [
        "**Explain and discuss your results here:** \\\\\n",
        "by the results we can see that the test accuracy is close to the train accuracy and the validation accuracy, although a bit smaller.\n"
      ]
    },
    {
      "cell_type": "markdown",
      "metadata": {
        "id": "h4eP2Yh1zGrI"
      },
      "source": [
        "### Part (i) -- 15%\n",
        "\n",
        "Writing a classifier like this is instructive, and helps you understand what happens when\n",
        "we train a model. However, in practice, we rarely write model building and training code\n",
        "from scratch. Instead, we typically use one of the well-tested libraries available in a package.\n",
        "\n",
        "Use `sklearn.linear_model.LogisticRegression` to build a linear classifier, and make predictions about the test set. Start by reading the\n",
        "[API documentation here](https://scikit-learn.org/stable/modules/generated/sklearn.linear_model.LogisticRegression.html).\n",
        "\n",
        "Compute the training, validation and test accuracy of this model."
      ]
    },
    {
      "cell_type": "code",
      "metadata": {
        "id": "24LCfAa1zGrJ",
        "colab": {
          "base_uri": "https://localhost:8080/"
        },
        "outputId": "6c2c794f-0a81-42e2-b9cd-9d2d9852f379"
      },
      "source": [
        "import sklearn.linear_model\n",
        "\n",
        "model = sklearn.linear_model.LogisticRegression()\n",
        "model.fit(train_norm_xs, train_ts)\n",
        "y_train = model.predict(train_norm_xs)\n",
        "y_val = model.predict(val_norm_xs)\n",
        "y_test = model.predict(test_norm_xs)\n",
        "train_acc = get_accuracy(y_train, train_ts)\n",
        "val_acc = get_accuracy(y_val, val_ts)\n",
        "test_acc = get_accuracy(y_test, test_ts)\n",
        "\n",
        "print('train_acc = ', train_acc, ' val_acc = ', val_acc, ' test_acc = ', test_acc)"
      ],
      "execution_count": null,
      "outputs": [
        {
          "output_type": "stream",
          "name": "stderr",
          "text": [
            "/usr/local/lib/python3.7/dist-packages/sklearn/utils/validation.py:993: DataConversionWarning: A column-vector y was passed when a 1d array was expected. Please change the shape of y to (n_samples, ), for example using ravel().\n",
            "  y = column_or_1d(y, warn=True)\n"
          ]
        },
        {
          "output_type": "stream",
          "name": "stdout",
          "text": [
            "train_acc =  0.7324051581402656  val_acc =  0.73486  test_acc =  0.7262250629478985\n"
          ]
        }
      ]
    },
    {
      "cell_type": "markdown",
      "metadata": {
        "id": "HRqucdV923tG"
      },
      "source": [
        "**This parts helps by checking if the code worked.**\n",
        "**Check if you get similar results, if not repair your code**\n"
      ]
    }
  ]
}